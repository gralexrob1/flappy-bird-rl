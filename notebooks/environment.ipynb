{
 "cells": [
  {
   "cell_type": "code",
   "execution_count": 5,
   "metadata": {},
   "outputs": [],
   "source": [
    "import sys\n",
    "import gymnasium as gym\n",
    "import text_flappy_bird_gym\n",
    "import time\n",
    "\n",
    "from IPython.display import clear_output"
   ]
  },
  {
   "cell_type": "markdown",
   "metadata": {},
   "source": [
    "# ```TextFlappyBird-v0```"
   ]
  },
  {
   "cell_type": "code",
   "execution_count": 6,
   "metadata": {},
   "outputs": [
    {
     "name": "stdout",
     "output_type": "stream",
     "text": [
      "Environment: TextFlappyBird-v0\n",
      "Observation space: Tuple(Discrete(7), Discrete(12, start=-6))\n",
      "Action space: Discrete(2)\n",
      "Initial state: (6, 0)\n",
      "Initial info: {'score': 0, 'player': [3, 5], 'distance': 6.0}\n"
     ]
    }
   ],
   "source": [
    "env = gym.make('TextFlappyBird-v0', height=10, width=10, pipe_gap=4)\n",
    "state, info = env.reset()\n",
    "\n",
    "print(f\"Environment: {env.spec.id}\")\n",
    "print(f\"Observation space: {env.observation_space}\")\n",
    "print(f\"Action space: {env.action_space}\")\n",
    "print(f\"Initial state: {state}\")\n",
    "print(f\"Initial info: {info}\")"
   ]
  },
  {
   "cell_type": "code",
   "execution_count": 8,
   "metadata": {},
   "outputs": [
    {
     "name": "stdout",
     "output_type": "stream",
     "text": [
      "Text Flappy Bird!\n",
      "Score: 0\n",
      "------------\n",
      "[      \u001b[32m|\u001b[0m   ]\n",
      "[      \u001b[32m|\u001b[0m   ]\n",
      "[      \u001b[32m|\u001b[0m   ]\n",
      "[          ]\n",
      "[          ]\n",
      "[          ]\n",
      "[          ]\n",
      "[      \u001b[32m|\u001b[0m   ]\n",
      "[      \u001b[32m|\u001b[0m   ]\n",
      "[  \u001b[31m*\u001b[0m   \u001b[32m|\u001b[0m   ]\n",
      "^^^^^^^^^^^^\n",
      "Player Action (Idle)\n",
      "Distance From Pipe (dx=3,dy=5)\n"
     ]
    }
   ],
   "source": [
    "env = gym.make('TextFlappyBird-v0', height=10, width=10, pipe_gap=4)\n",
    "\n",
    "obs, info = env.reset()\n",
    "render = None\n",
    "\n",
    "while True:\n",
    "\n",
    "    action = env.action_space.sample()\n",
    "    obs, reward, done, _, info = env.step(action)\n",
    "\n",
    "    clear_output(wait=True)\n",
    "    render = env.render()\n",
    "    sys.stdout.write(render)\n",
    "    time.sleep(0.2)\n",
    "\n",
    "    if done:\n",
    "        break"
   ]
  },
  {
   "cell_type": "markdown",
   "metadata": {},
   "source": [
    "# ```TextFlappyBird-screen-v0```"
   ]
  },
  {
   "cell_type": "code",
   "execution_count": 4,
   "metadata": {},
   "outputs": [
    {
     "name": "stdout",
     "output_type": "stream",
     "text": [
      "Environment: TextFlappyBird-screen-v0\n",
      "Observation space: Box(0, 3, (10, 10), int32)\n",
      "Action space: Discrete(2)\n",
      "Initial state: \n",
      "[[0 0 0 0 0 0 0 0 0 0]\n",
      " [0 0 0 0 0 0 0 0 0 0]\n",
      " [0 0 0 0 0 0 0 0 0 0]\n",
      " [0 0 0 0 0 1 0 0 0 0]\n",
      " [0 0 0 0 0 0 0 0 0 0]\n",
      " [0 0 0 0 0 0 0 0 0 0]\n",
      " [0 0 0 0 0 0 0 0 0 0]\n",
      " [0 0 0 0 0 0 0 0 0 0]\n",
      " [0 0 0 0 0 0 0 0 0 0]\n",
      " [2 2 2 0 0 0 0 2 2 2]]\n",
      "Initial info: {'score': 0, 'player': [3, 5]}\n"
     ]
    }
   ],
   "source": [
    "env = gym.make('TextFlappyBird-screen-v0', height=10, width=10, pipe_gap=4)\n",
    "state, info = env.reset()\n",
    "\n",
    "print(f\"Environment: {env.spec.id}\")\n",
    "print(f\"Observation space: {env.observation_space}\")\n",
    "print(f\"Action space: {env.action_space}\")\n",
    "print(f\"Initial state: \\n{state}\")\n",
    "print(f\"Initial info: {info}\")"
   ]
  },
  {
   "cell_type": "code",
   "execution_count": 9,
   "metadata": {},
   "outputs": [
    {
     "name": "stdout",
     "output_type": "stream",
     "text": [
      "Text Flappy Bird!\n",
      "Score: 1\n",
      "------------\n",
      "[  \u001b[31m*\u001b[0m\u001b[32m|\u001b[0m    \u001b[32m|\u001b[0m ]\n",
      "[   \u001b[32m|\u001b[0m    \u001b[32m|\u001b[0m ]\n",
      "[   \u001b[32m|\u001b[0m    \u001b[32m|\u001b[0m ]\n",
      "[   \u001b[32m|\u001b[0m      ]\n",
      "[          ]\n",
      "[          ]\n",
      "[          ]\n",
      "[        \u001b[32m|\u001b[0m ]\n",
      "[   \u001b[32m|\u001b[0m    \u001b[32m|\u001b[0m ]\n",
      "[   \u001b[32m|\u001b[0m    \u001b[32m|\u001b[0m ]\n",
      "^^^^^^^^^^^^\n",
      "(Flap)\n"
     ]
    }
   ],
   "source": [
    "env = gym.make('TextFlappyBird-screen-v0', height=10, width=10, pipe_gap=4)\n",
    "\n",
    "obs, info = env.reset()\n",
    "render = None\n",
    "\n",
    "while True:\n",
    "\n",
    "    action = env.action_space.sample()\n",
    "    obs, reward, done, _, info = env.step(action)\n",
    "\n",
    "    clear_output(wait=True)\n",
    "    render = env.render()\n",
    "    sys.stdout.write(render)\n",
    "    time.sleep(0.2)\n",
    "\n",
    "    if done:\n",
    "        break"
   ]
  }
 ],
 "metadata": {
  "kernelspec": {
   "display_name": "tfb-rl",
   "language": "python",
   "name": "python3"
  },
  "language_info": {
   "codemirror_mode": {
    "name": "ipython",
    "version": 3
   },
   "file_extension": ".py",
   "mimetype": "text/x-python",
   "name": "python",
   "nbconvert_exporter": "python",
   "pygments_lexer": "ipython3",
   "version": "3.9.19"
  }
 },
 "nbformat": 4,
 "nbformat_minor": 2
}
